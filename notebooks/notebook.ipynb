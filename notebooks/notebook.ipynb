{
 "cells": [
  {
   "cell_type": "code",
   "execution_count": 2,
   "metadata": {},
   "outputs": [],
   "source": [
    "# Dataset: Cell Body Segmentation\n",
    "# Source: Hill, LaPan, Li and Haney (2007). Impact of image segmentation \n",
    "# on high-content screening data quality for SK-BR-3 cells, BMC \n",
    "# Bioinformatics, Vol. 8, pg. 340\n",
    "# URL: https://bmcbioinformatics.biomedcentral.com/articles/10.1186/1471-2105-8-340\n",
    "# Description: Hill, LaPan, Li and Haney (2007) develop models to predict \n",
    "# which cells in a high content screen were well segmented. The data \n",
    "# consists of 119 imaging measurements on 2019. \n",
    "# The original analysis used 1009 for training and 1010 as a test set. \n",
    "# The outcome class is contained in a factor variable called Class with \n",
    "# levels \"PS\" for poorly segmented and \"WS\" for well segmented.\n",
    "\n",
    "#Step 0\n",
    "import pandas as pd\n",
    "import matplotlib.pyplot as plt\n",
    "import seaborn as sns \n",
    "import numpy as np\n",
    "from sklearn.preprocessing import PowerTransformer\n",
    "from sklearn.metrics import accuracy_score\n",
    "from sklearn.metrics import roc_curve, roc_auc_score"
   ]
  },
  {
   "cell_type": "code",
   "execution_count": null,
   "metadata": {},
   "outputs": [],
   "source": [
    "#Step 1: Load Data\n"
   ]
  }
 ],
 "metadata": {
  "kernelspec": {
   "display_name": ".venv",
   "language": "python",
   "name": "python3"
  },
  "language_info": {
   "codemirror_mode": {
    "name": "ipython",
    "version": 3
   },
   "file_extension": ".py",
   "mimetype": "text/x-python",
   "name": "python",
   "nbconvert_exporter": "python",
   "pygments_lexer": "ipython3",
   "version": "3.10.12"
  },
  "orig_nbformat": 4
 },
 "nbformat": 4,
 "nbformat_minor": 2
}
